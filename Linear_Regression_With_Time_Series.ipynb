{
  "nbformat": 4,
  "nbformat_minor": 0,
  "metadata": {
    "colab": {
      "provenance": [],
      "authorship_tag": "ABX9TyNtwdtpFAfqn4FpTXi7br/X",
      "include_colab_link": true
    },
    "kernelspec": {
      "name": "python3",
      "display_name": "Python 3"
    },
    "language_info": {
      "name": "python"
    }
  },
  "cells": [
    {
      "cell_type": "markdown",
      "metadata": {
        "id": "view-in-github",
        "colab_type": "text"
      },
      "source": [
        "<a href=\"https://colab.research.google.com/github/pablex72/time-series-kaggle-practice/blob/main/Linear_Regression_With_Time_Series.ipynb\" target=\"_parent\"><img src=\"https://colab.research.google.com/assets/colab-badge.svg\" alt=\"Open In Colab\"/></a>"
      ]
    },
    {
      "cell_type": "code",
      "source": [
        "import pandas as pd\n",
        "import matplotlib.pyplot as plt\n",
        "import numpy as np\n",
        "import seaborn as sns\n",
        "from sklearn.linear_model import LinearRegression"
      ],
      "metadata": {
        "id": "HbOLCMvLHbCw"
      },
      "execution_count": 1,
      "outputs": []
    },
    {
      "cell_type": "code",
      "execution_count": null,
      "metadata": {
        "id": "gKfp8uQSDm04"
      },
      "outputs": [],
      "source": [
        "\n",
        "data_dir = Path('../input/ts-course-data/')\n",
        "comp_dir = Path('../input/store-sales-time-series-forecasting')\n",
        "\n",
        "book_sales = pd.read_csv(data_dir / 'book_sales.csv', index_col='Date',parse_dates=['Date'],).drop('Paperback', axis=1)\n",
        "book_sales['Time'] = np.arange(len(book_sales.index))\n",
        "book_sales['Lag_1'] = book_sales['Hardcover'].shift(1)\n",
        "book_sales = book_sales.reindex(columns=['Hardcover', 'Time', 'Lag_1'])\n",
        "\n",
        "ar = pd.read_csv(data_dir / 'ar.csv')\n",
        "\n",
        "dtype = {\n",
        "    'store_nbr': 'category',\n",
        "    'family': 'category',\n",
        "    'sales': 'float32',\n",
        "    'onpromotion': 'uint64',\n",
        "}\n",
        "store_sales = pd.read_csv(\n",
        "    comp_dir / 'train.csv',\n",
        "    dtype=dtype,\n",
        "    parse_dates=['date'],\n",
        "    infer_datetime_format=True,\n",
        ")\n",
        "store_sales = store_sales.set_index('date').to_period('D')\n",
        "store_sales = store_sales.set_index(['store_nbr', 'family'], append=True)\n",
        "average_sales = store_sales.groupby('date').mean()['sales']"
      ]
    }
  ]
}